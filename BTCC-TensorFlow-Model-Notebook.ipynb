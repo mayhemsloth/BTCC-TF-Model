{
 "cells": [
  {
   "cell_type": "markdown",
   "metadata": {},
   "source": [
    "# BTCC TensorFlow Model - Transfer Learning for Object Detection\n",
    "This Jupyter Notebook is the product of Thomas Hymel. The contents pertain to a specific part of a larger, collaborative project whose goal is to create an automatic scorer for a board game called **Between Two Castles of Mad King Ludwig.** The board game's gameplay is rather fun and goes by quickly, but after that the resultant game state for each player needs to be scored to determine the winner, which can often take a long time, or at least is not the most enjoyable activity. As it turns out, the end game state contains all the information necessary to score the game (that is, no points are scored and tracked during the game and would need to be added to the end game state). Not only is the end game state entirely sufficient, but it's possible that a picture, say, taken by a cell phone, can capture the entire state for each player. If a neural network can intepret that picture with enough discernability, it can extract the information necessary to calculate the end game state score via the establish scoring logic that a human would normally do. In summary, the main point of the project is to take a picture and instantly get the final score at the end of the game. A crucial part of this is the extraction of the information from an image. \n",
    "\n",
    "### Transfer Learning\n",
    "In July 2020, when this notebook was made, computer vision is pretty advanced. We want to take advantage of these advances via **transfer learning**. Transfer learning is the concept that we leverage a neural network that has been pre-trained on a large, general dataset to establish a base general model of the visual world. That is, this pre-trained model has the ability to \"see\" images and decipher what is in them, but only if trained further on the desired classes (if your classes aren't apart of the pre-trained model).\n",
    "\n",
    "Background links:\n",
    "https://machinelearningmastery.com/object-recognition-with-deep-learning/\n",
    "https://medium.com/deepquestai/object-detection-training-preparing-your-custom-dataset-6248679f0d1d\n",
    "Potentially useful links:\n",
    "https://machinelearningmastery.com/how-to-perform-object-detection-with-yolov3-in-keras/\n",
    "https://medium.com/analytics-vidhya/custom-object-detection-with-yolov3-8f72fe8ced79\n",
    "\n"
   ]
  },
  {
   "cell_type": "code",
   "execution_count": null,
   "metadata": {},
   "outputs": [],
   "source": []
  },
  {
   "cell_type": "code",
   "execution_count": null,
   "metadata": {},
   "outputs": [],
   "source": []
  },
  {
   "cell_type": "markdown",
   "metadata": {},
   "source": [
    "##### List of Useful Shortcuts\n",
    "\n",
    "* Ctrl + shift + P = List of Shortcuts\n",
    "* Enter (command mode) = Enter Edit Mode (enter cell to edit it)\n",
    "* Esc (edit mode) = Enter Command Mode (exit cell)\n",
    "* A = Create Cell above\n",
    "* B = Create Cell below\n",
    "* D,D = Delete Cell\n",
    "* Shift + Enter = Run Cell (code or markdown)\n",
    "* M = Change Cell to Markdown\n",
    "* Y = Change Cell to Code\n",
    "* Ctrl + Shift + Minus = Split Cell at Cursor"
   ]
  }
 ],
 "metadata": {
  "kernelspec": {
   "display_name": "Python 3",
   "language": "python",
   "name": "python3"
  },
  "language_info": {
   "codemirror_mode": {
    "name": "ipython",
    "version": 3
   },
   "file_extension": ".py",
   "mimetype": "text/x-python",
   "name": "python",
   "nbconvert_exporter": "python",
   "pygments_lexer": "ipython3",
   "version": "3.7.4"
  }
 },
 "nbformat": 4,
 "nbformat_minor": 2
}
